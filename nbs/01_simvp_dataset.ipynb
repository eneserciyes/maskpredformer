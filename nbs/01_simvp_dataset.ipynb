{
 "cells": [
  {
   "cell_type": "markdown",
   "metadata": {},
   "source": [
    "# SimVP Dataset\n",
    "\n",
    "> dataset for SimVP"
   ]
  },
  {
   "cell_type": "code",
   "execution_count": 1,
   "metadata": {},
   "outputs": [],
   "source": [
    "#| default_exp simvp_dataset"
   ]
  },
  {
   "cell_type": "code",
   "execution_count": 2,
   "metadata": {},
   "outputs": [],
   "source": [
    "#| export\n",
    "from torch.utils.data import Dataset\n",
    "import torch\n",
    "import os\n",
    "from torchvision import transforms\n",
    "from maskpredformer.vis_utils import show_video_line"
   ]
  },
  {
   "cell_type": "code",
   "execution_count": 3,
   "metadata": {},
   "outputs": [],
   "source": [
    "#| export\n",
    "DEFAULT_DATA_PATH = \"/home/enes/dev/maskpredformer/data/DL\""
   ]
  },
  {
   "cell_type": "code",
   "execution_count": 22,
   "metadata": {},
   "outputs": [],
   "source": [
    "#| export\n",
    "class DLDataset(Dataset):\n",
    "    def __init__(self, root, mode, unlabeled=False, pre_seq_len=11, aft_seq_len=11, ep_len=22):\n",
    "        self.mask_path = os.path.join(root, f\"{mode}_masks.pt\")\n",
    "        self.mode = mode\n",
    "        print(\"INFO: Loading masks from\", self.mask_path)\n",
    "        if unlabeled:\n",
    "            self.masks = torch.cat([\n",
    "                torch.load(self.mask_path), \n",
    "                torch.load(os.path.join(root, f\"unlabeled_masks.pt\")).squeeze()\n",
    "            ], dim=0)\n",
    "        else:\n",
    "            self.masks = torch.load(self.mask_path)\n",
    "        self.transform = transforms.Compose([\n",
    "            transforms.RandomHorizontalFlip(p=0.5),\n",
    "        ])\n",
    "        self.pre_seq_len=pre_seq_len\n",
    "        self.aft_seq_len=aft_seq_len\n",
    "        self.seq_per_ep = ep_len - (pre_seq_len + aft_seq_len) + 1\n",
    "\n",
    "    def __len__(self):\n",
    "        return self.masks.shape[0] * self.seq_per_ep\n",
    "    \n",
    "    def __getitem__(self, idx):\n",
    "        ep_idx = idx // self.seq_per_ep\n",
    "        offset = idx % self.seq_per_ep\n",
    "        total_len = self.pre_seq_len + self.aft_seq_len\n",
    "        \n",
    "        if self.mode == \"train\":\n",
    "            ep = self.transform(self.masks[ep_idx, offset:offset+total_len])\n",
    "        else:\n",
    "            ep = self.masks[ep_idx, offset:offset+total_len]\n",
    "        data = ep[:self.pre_seq_len].long()\n",
    "        labels = ep[self.pre_seq_len:].long()\n",
    "        return data, labels"
   ]
  },
  {
   "cell_type": "markdown",
   "metadata": {},
   "source": [
    "**Test dataset**"
   ]
  },
  {
   "cell_type": "code",
   "execution_count": 23,
   "metadata": {},
   "outputs": [
    {
     "name": "stdout",
     "output_type": "stream",
     "text": [
      "INFO: Loading masks from ../data/DL/val_masks.pt\n"
     ]
    }
   ],
   "source": [
    "dataset = DLDataset('../data/DL', 'val', pre_seq_len=11, aft_seq_len=3)"
   ]
  },
  {
   "cell_type": "code",
   "execution_count": 24,
   "metadata": {},
   "outputs": [
    {
     "data": {
      "text/plain": [
       "9000"
      ]
     },
     "execution_count": 24,
     "metadata": {},
     "output_type": "execute_result"
    }
   ],
   "source": [
    "len(dataset)"
   ]
  },
  {
   "cell_type": "code",
   "execution_count": 25,
   "metadata": {},
   "outputs": [],
   "source": [
    "x, y = dataset[0]"
   ]
  },
  {
   "cell_type": "code",
   "execution_count": 26,
   "metadata": {},
   "outputs": [
    {
     "data": {
      "text/plain": [
       "(torch.Size([11, 160, 240]), torch.Size([3, 160, 240]))"
      ]
     },
     "execution_count": 26,
     "metadata": {},
     "output_type": "execute_result"
    }
   ],
   "source": [
    "x.shape, y.shape"
   ]
  },
  {
   "cell_type": "code",
   "execution_count": 27,
   "metadata": {},
   "outputs": [
    {
     "data": {
      "image/png": "[encoded data removed]",
      "text/plain": [
       "<Figure size 3575x300 with 11 Axes>"
      ]
     },
     "metadata": {},
     "output_type": "display_data"
    }
   ],
   "source": [
    "show_video_line(x, len(x))"
   ]
  },
  {
   "cell_type": "code",
   "execution_count": 28,
   "metadata": {},
   "outputs": [
    {
     "data": {
      "image/png": "[encoded data removed]",
      "text/plain": [
       "<Figure size 975x300 with 3 Axes>"
      ]
     },
     "metadata": {},
     "output_type": "display_data"
    }
   ],
   "source": [
    "show_video_line(y, len(y))"
   ]
  },
  {
   "cell_type": "code",
   "execution_count": 29,
   "metadata": {},
   "outputs": [],
   "source": [
    "#| hide\n",
    "import nbdev; nbdev.nbdev_export()"
   ]
  },
  {
   "cell_type": "code",
   "execution_count": null,
   "metadata": {},
   "outputs": [],
   "source": []
  }
 ],
 "metadata": {
  "kernelspec": {
   "display_name": "Python 3 (ipykernel)",
   "language": "python",
   "name": "python3"
  },
  "language_info": {
   "codemirror_mode": {
    "name": "ipython",
    "version": 3
   },
   "file_extension": ".py",
   "mimetype": "text/x-python",
   "name": "python",
   "nbconvert_exporter": "python",
   "pygments_lexer": "ipython3",
   "version": "3.11.5"
  }
 },
 "nbformat": 4,
 "nbformat_minor": 4
}
