{
 "cells": [
  {
   "cell_type": "code",
   "execution_count": 1,
   "metadata": {},
   "outputs": [],
   "source": [
    "import torch \n",
    "import numpy as np\n",
    "import matplotlib.pyplot as plt\n",
    "from PIL import Image\n",
    "from torch.utils.data import Dataset,DataLoader\n",
    "import os \n",
    "from torchvision import transforms\n",
    "import tqdm\n",
    "import matplotlib.pyplot as plt\n",
    "import torch\n",
    "import os\n",
    "import time\n",
    "import re\n",
    "import shutil"
   ]
  },
  {
   "cell_type": "code",
   "execution_count": 2,
   "metadata": {},
   "outputs": [],
   "source": [
    "device = \"cuda\" if torch.cuda.is_available() else \"cpu\""
   ]
  },
  {
   "cell_type": "code",
   "execution_count": 3,
   "metadata": {},
   "outputs": [],
   "source": [
    "model = torch.jit.load('models/unet9.pt')"
   ]
  },
  {
   "cell_type": "code",
   "execution_count": 4,
   "metadata": {},
   "outputs": [],
   "source": [
    "model.to(device);"
   ]
  },
  {
   "cell_type": "code",
   "execution_count": 31,
   "metadata": {},
   "outputs": [],
   "source": [
    "class WenmaSet(Dataset):\n",
    "    def __init__(self, data_path, train_or_val, transform=None):\n",
    "        self.data_path = data_path\n",
    "        self.transform = transform\n",
    "        self.train_or_val = train_or_val\n",
    "\n",
    "    def __getitem__(self, ind):\n",
    "        if self.train_or_val == \"train\":\n",
    "            pass\n",
    "        elif self.train_or_val == \"val\": \n",
    "            ind = ind + 1000\n",
    "        elif self.train_or_val == \"unlabeled\":\n",
    "            ind = ind + 2000\n",
    "        elif self.train_or_val == \"hidden\":\n",
    "            ind = ind + 15000\n",
    "\n",
    "        video_path = os.path.join(self.data_path, 'video_{}'.format(ind))\n",
    "        mask_path = os.path.join(video_path, 'mask.npy')\n",
    "        \n",
    "        images = []\n",
    "        masks = []\n",
    "\n",
    "        for frame in range(0, 22):\n",
    "            image_path = os.path.join(video_path, 'image_{}.png'.format(frame))\n",
    "            image = np.array(Image.open(image_path))\n",
    "\n",
    "            if self.transform:\n",
    "                image = self.transform(image)\n",
    "            images.append(image)\n",
    "\n",
    "            if self.train_or_val in [\"train\", \"val\"]:\n",
    "                mask = np.load(mask_path)[frame] \n",
    "                masks.append(torch.from_numpy(mask).long())\n",
    "        \n",
    "        if self.train_or_val in [\"train\", \"val\"]:\n",
    "            return torch.stack(images), torch.stack(masks)\n",
    "        else:\n",
    "            return torch.stack(images), None\n",
    "\n",
    "    def __len__(self):\n",
    "        return len(os.listdir(self.data_path))"
   ]
  },
  {
   "cell_type": "code",
   "execution_count": 32,
   "metadata": {},
   "outputs": [],
   "source": [
    "transform = transforms.Compose([\n",
    "    transforms.ToTensor(),     \n",
    "    transforms.Resize((160, 240), antialias=True),\n",
    "    transforms.Normalize((0.4914, 0.4822, 0.4465), (0.2023, 0.1994, 0.2010))\n",
    "])"
   ]
  },
  {
   "cell_type": "code",
   "execution_count": 33,
   "metadata": {},
   "outputs": [],
   "source": [
    "data_path = '/dataset/'\n",
    "mode = 'unlabeled'\n",
    "\n",
    "dataset = WenmaSet(data_path = data_path + mode, \n",
    "                      train_or_val = mode, \n",
    "                      transform = transform)"
   ]
  },
  {
   "cell_type": "code",
   "execution_count": 34,
   "metadata": {},
   "outputs": [
    {
     "name": "stderr",
     "output_type": "stream",
     "text": [
      " 14%|█▎        | 1778/13000 [09:27<59:43,  3.13it/s]  \n"
     ]
    },
    {
     "ename": "KeyboardInterrupt",
     "evalue": "",
     "output_type": "error",
     "traceback": [
      "\u001b[0;31m---------------------------------------------------------------------------\u001b[0m",
      "\u001b[0;31mKeyboardInterrupt\u001b[0m                         Traceback (most recent call last)",
      "Cell \u001b[0;32mIn[34], line 14\u001b[0m\n\u001b[1;32m     11\u001b[0m     mask_prediction \u001b[38;5;241m=\u001b[39m model(images)\n\u001b[1;32m     12\u001b[0m     mask_prediction \u001b[38;5;241m=\u001b[39m mask_prediction\u001b[38;5;241m.\u001b[39mdetach()\u001b[38;5;241m.\u001b[39mcpu()\n\u001b[0;32m---> 14\u001b[0m torch\u001b[38;5;241m.\u001b[39msave(mask_prediction, os\u001b[38;5;241m.\u001b[39mpath\u001b[38;5;241m.\u001b[39mjoin(save_path, \u001b[38;5;124m\"\u001b[39m\u001b[38;5;124mmask.pt\u001b[39m\u001b[38;5;124m\"\u001b[39m))\n\u001b[1;32m     15\u001b[0m \u001b[38;5;28;01mif\u001b[39;00m mode \u001b[38;5;129;01min\u001b[39;00m [\u001b[38;5;124m\"\u001b[39m\u001b[38;5;124mtrain\u001b[39m\u001b[38;5;124m\"\u001b[39m, \u001b[38;5;124m\"\u001b[39m\u001b[38;5;124mval\u001b[39m\u001b[38;5;124m\"\u001b[39m]:\n\u001b[1;32m     16\u001b[0m     torch\u001b[38;5;241m.\u001b[39msave(masks, os\u001b[38;5;241m.\u001b[39mpath\u001b[38;5;241m.\u001b[39mjoin(save_path, \u001b[38;5;124m\"\u001b[39m\u001b[38;5;124mmask_gt.pt\u001b[39m\u001b[38;5;124m\"\u001b[39m))\n",
      "File \u001b[0;32m/ext3/miniconda3/lib/python3.11/site-packages/torch/serialization.py:618\u001b[0m, in \u001b[0;36msave\u001b[0;34m(obj, f, pickle_module, pickle_protocol, _use_new_zipfile_serialization, _disable_byteorder_record)\u001b[0m\n\u001b[1;32m    615\u001b[0m _check_save_filelike(f)\n\u001b[1;32m    617\u001b[0m \u001b[38;5;28;01mif\u001b[39;00m _use_new_zipfile_serialization:\n\u001b[0;32m--> 618\u001b[0m     \u001b[38;5;28;01mwith\u001b[39;00m _open_zipfile_writer(f) \u001b[38;5;28;01mas\u001b[39;00m opened_zipfile:\n\u001b[1;32m    619\u001b[0m         _save(obj, opened_zipfile, pickle_module, pickle_protocol, _disable_byteorder_record)\n\u001b[1;32m    620\u001b[0m         \u001b[38;5;28;01mreturn\u001b[39;00m\n",
      "File \u001b[0;32m/ext3/miniconda3/lib/python3.11/site-packages/torch/serialization.py:466\u001b[0m, in \u001b[0;36m_open_zipfile_writer_file.__exit__\u001b[0;34m(self, *args)\u001b[0m\n\u001b[1;32m    465\u001b[0m \u001b[38;5;28;01mdef\u001b[39;00m \u001b[38;5;21m__exit__\u001b[39m(\u001b[38;5;28mself\u001b[39m, \u001b[38;5;241m*\u001b[39margs) \u001b[38;5;241m-\u001b[39m\u001b[38;5;241m>\u001b[39m \u001b[38;5;28;01mNone\u001b[39;00m:\n\u001b[0;32m--> 466\u001b[0m     \u001b[38;5;28mself\u001b[39m\u001b[38;5;241m.\u001b[39mfile_like\u001b[38;5;241m.\u001b[39mwrite_end_of_file()\n\u001b[1;32m    467\u001b[0m     \u001b[38;5;28;01mif\u001b[39;00m \u001b[38;5;28mself\u001b[39m\u001b[38;5;241m.\u001b[39mfile_stream \u001b[38;5;129;01mis\u001b[39;00m \u001b[38;5;129;01mnot\u001b[39;00m \u001b[38;5;28;01mNone\u001b[39;00m:\n\u001b[1;32m    468\u001b[0m         \u001b[38;5;28mself\u001b[39m\u001b[38;5;241m.\u001b[39mfile_stream\u001b[38;5;241m.\u001b[39mclose()\n",
      "\u001b[0;31mKeyboardInterrupt\u001b[0m: "
     ]
    }
   ],
   "source": [
    "save_root = os.path.join('/vast/me2646/data_prepared/', mode)\n",
    "os.makedirs(save_root, exist_ok=True)\n",
    "for i in tqdm.tqdm(range(len(dataset))):\n",
    "    if i < 1778:\n",
    "        continue\n",
    "#     import pdb; pdb.set_trace()\n",
    "    offset = 0 if mode==\"train\" else 1000 if mode==\"val\" else 2000 if mode == \"unlabeled\" else 15000\n",
    "    save_path = os.path.join(save_root, f\"video_{i+offset}\")\n",
    "    os.makedirs(save_path, exist_ok=True)\n",
    "    images, masks = dataset[i]\n",
    "    images = images.to(device)\n",
    "    with torch.cuda.amp.autocast():\n",
    "        mask_prediction = model(images)\n",
    "        mask_prediction = mask_prediction.detach().cpu()\n",
    "    \n",
    "    torch.save(mask_prediction, os.path.join(save_path, \"mask.pt\"))\n",
    "    if mode in [\"train\", \"val\"]:\n",
    "        torch.save(masks, os.path.join(save_path, \"mask_gt.pt\"))"
   ]
  }
 ],
 "metadata": {
  "kernelspec": {
   "display_name": "Python 3 (ipykernel)",
   "language": "python",
   "name": "python3"
  },
  "language_info": {
   "codemirror_mode": {
    "name": "ipython",
    "version": 3
   },
   "file_extension": ".py",
   "mimetype": "text/x-python",
   "name": "python",
   "nbconvert_exporter": "python",
   "pygments_lexer": "ipython3",
   "version": "3.10.6"
  }
 },
 "nbformat": 4,
 "nbformat_minor": 4
}
