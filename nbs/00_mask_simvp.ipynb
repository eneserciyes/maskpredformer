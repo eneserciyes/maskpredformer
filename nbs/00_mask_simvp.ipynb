{
 "cells": [
  {
   "cell_type": "markdown",
   "metadata": {},
   "source": [
    "# SimVP Mask Predictor Model\n",
    "\n",
    "> simvp_mask_predictor_model"
   ]
  },
  {
   "cell_type": "code",
   "execution_count": 1,
   "metadata": {},
   "outputs": [],
   "source": [
    "#| default_exp mask_simvp"
   ]
  },
  {
   "cell_type": "code",
   "execution_count": 2,
   "metadata": {},
   "outputs": [],
   "source": [
    "#| export\n",
    "from openstl.models.simvp_model import SimVP_Model\n",
    "import torch.nn as nn"
   ]
  },
  {
   "cell_type": "code",
   "execution_count": 3,
   "metadata": {},
   "outputs": [],
   "source": [
    "#| export\n",
    "DEFAULT_MODEL_CONFIG = {\n",
    "    # For MetaVP models, the most important hyperparameters are: \n",
    "    # N_S, N_T, hid_S, hid_T, model_type\n",
    "    'in_shape': [11, 32, 160, 240],\n",
    "    'hid_S': 64,\n",
    "    'hid_T': 256,\n",
    "    'N_S': 4,\n",
    "    'N_T': 8,\n",
    "    'model_type': 'gSTA',\n",
    "}"
   ]
  },
  {
   "cell_type": "code",
   "execution_count": 4,
   "metadata": {},
   "outputs": [],
   "source": [
    "#| export\n",
    "class MaskSimVP(nn.Module):\n",
    "    def __init__(self, in_shape, hid_S, hid_T, N_S, N_T, model_type):\n",
    "        super().__init__()\n",
    "        c = in_shape[1]\n",
    "        self.simvp = SimVP_Model(\n",
    "            in_shape=in_shape, hid_S=hid_S, \n",
    "            hid_T=hid_T, N_S=N_S, N_T=N_T, \n",
    "            model_type=model_type)\n",
    "        self.token_embeddings = nn.Embedding(49, c)\n",
    "        self.out_conv = nn.Conv2d(c, 49, 1, 1)\n",
    "\n",
    "    def forward(self, tokens):\n",
    "        x = self.token_embeddings(tokens)\n",
    "        x = x.permute(0, 1, 4, 2, 3)\n",
    "        x = self.simvp(x)\n",
    "\n",
    "        b, t, c, h, w = x.shape\n",
    "        x = x.view(b*t, c, h, w)\n",
    "\n",
    "        x = self.out_conv(x)\n",
    "        x = x.view(b, t, 49, h, w)\n",
    "        return x\n",
    "\n"
   ]
  },
  {
   "cell_type": "markdown",
   "metadata": {},
   "source": [
    "# Tests"
   ]
  },
  {
   "cell_type": "code",
   "execution_count": 5,
   "metadata": {},
   "outputs": [],
   "source": [
    "model = MaskSimVP(**DEFAULT_MODEL_CONFIG)"
   ]
  },
  {
   "cell_type": "code",
   "execution_count": 6,
   "metadata": {},
   "outputs": [],
   "source": [
    "import torch\n",
    "\n",
    "x = torch.randint(0, 49, (1, 11, 160, 240)).long()\n",
    "out = model(x)\n",
    "assert out.shape == (1, 11, 49, 160, 240)"
   ]
  },
  {
   "cell_type": "code",
   "execution_count": null,
   "metadata": {},
   "outputs": [],
   "source": [
    "#| hide\n",
    "import nbdev; nbdev.nbdev_export()"
   ]
  }
 ],
 "metadata": {
  "kernelspec": {
   "display_name": "base",
   "language": "python",
   "name": "python3"
  },
  "language_info": {
   "codemirror_mode": {
    "name": "ipython",
    "version": 3
   },
   "file_extension": ".py",
   "mimetype": "text/x-python",
   "name": "python",
   "nbconvert_exporter": "python",
   "pygments_lexer": "ipython3",
   "version": "3.10.12"
  }
 },
 "nbformat": 4,
 "nbformat_minor": 2
}
