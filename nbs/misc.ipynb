{
 "cells": [
  {
   "cell_type": "code",
   "execution_count": null,
   "id": "30a44e0c-79d1-4b15-ba2e-bdf2fac859ae",
   "metadata": {},
   "outputs": [],
   "source": [
    "import torch\n",
    "import numpy as np\n",
    "import os\n",
    "import matplotlib.pyplot as plt\n",
    "from torchmetrics import JaccardIndex"
   ]
  },
  {
   "cell_type": "code",
   "execution_count": null,
   "id": "bd3e1991",
   "metadata": {},
   "outputs": [],
   "source": [
    "final_leaderboard = torch.load('../final_leaderboard_team_19.pt')"
   ]
  },
  {
   "cell_type": "code",
   "execution_count": null,
   "id": "9b7f1dfa",
   "metadata": {},
   "outputs": [],
   "source": [
    "plt.imshow(final_leaderboard[-1])"
   ]
  },
  {
   "cell_type": "code",
   "execution_count": null,
   "id": "f958ac24",
   "metadata": {},
   "outputs": [],
   "source": [
    "train_gt_masks = torch.load('../data/DL/train_gt_masks.pt').to(torch.device(\"cuda\"))\n",
    "train_masks = torch.load('../data/DL/train_masks.pt').to(torch.device(\"cuda\"))"
   ]
  },
  {
   "cell_type": "code",
   "execution_count": null,
   "id": "8b5f36ec",
   "metadata": {},
   "outputs": [],
   "source": [
    "jaccard = JaccardIndex(task='multiclass', num_classes=49).to(torch.device(\"cuda\"))\n"
   ]
  },
  {
   "cell_type": "code",
   "execution_count": null,
   "id": "dde0e2a0",
   "metadata": {},
   "outputs": [],
   "source": [
    "jaccard(train_masks[:, -1], train_gt_masks[:, -1])"
   ]
  }
 ],
 "metadata": {
  "kernelspec": {
   "display_name": "python3",
   "language": "python",
   "name": "python3"
  }
 },
 "nbformat": 4,
 "nbformat_minor": 5
}
