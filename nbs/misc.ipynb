{
 "cells": [
  {
   "cell_type": "code",
   "execution_count": null,
   "id": "a89bead6-bb76-4808-a1ad-315395918e94",
   "metadata": {},
   "outputs": [],
   "source": [
    "import torch\n",
    "import matplotlib.pyplot as plt\n",
    "import random"
   ]
  },
  {
   "cell_type": "code",
   "execution_count": null,
   "id": "20e5bc3b-23e7-4c35-9b34-55c9af2917d9",
   "metadata": {},
   "outputs": [],
   "source": [
    "?torch.sigmoid"
   ]
  },
  {
   "cell_type": "code",
   "execution_count": null,
   "id": "c8ec5ee3-fd3c-4b1d-99c9-0a734d064dcf",
   "metadata": {},
   "outputs": [],
   "source": [
    "k = 2\n",
    "i, n = 15000, 28000"
   ]
  },
  {
   "cell_type": "code",
   "execution_count": null,
   "id": "5172acdc-ec3e-42fa-8fd7-1474405f1091",
   "metadata": {},
   "outputs": [],
   "source": [
    "x = torch.arange(0, n)\n",
    "def inv_sigmoid_schedule(x, n, k=2):\n",
    "    y = k / (k+torch.exp(((x-(n//2))/(n//20))/k))\n",
    "    return y\n",
    "y = inv_sigmoid(x, n)\n",
    "plt.plot(x, y)"
   ]
  },
  {
   "cell_type": "code",
   "execution_count": null,
   "id": "30a44e0c-79d1-4b15-ba2e-bdf2fac859ae",
   "metadata": {},
   "outputs": [],
   "source": [
    "print(inv_sigmoid(torch.tensor(i), n))"
   ]
  }
 ],
 "metadata": {
  "kernelspec": {
   "display_name": "python3",
   "language": "python",
   "name": "python3"
  }
 },
 "nbformat": 4,
 "nbformat_minor": 5
}
