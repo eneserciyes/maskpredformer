{
 "cells": [
  {
   "cell_type": "markdown",
   "metadata": {},
   "source": [
    "# SimVP Dataset\n",
    "\n",
    "> dataset for SimVP"
   ]
  },
  {
   "cell_type": "code",
   "execution_count": null,
   "metadata": {},
   "outputs": [],
   "source": [
    "#| default_exp simvp_dataset"
   ]
  },
  {
   "cell_type": "code",
   "execution_count": null,
   "metadata": {},
   "outputs": [],
   "source": [
    "#| export\n",
    "from torch.utils.data import Dataset\n",
    "import torch\n",
    "import os\n",
    "from torchvision import transforms\n",
    "from maskpredformer.vis_utils import show_video_line"
   ]
  },
  {
   "cell_type": "code",
   "execution_count": null,
   "metadata": {},
   "outputs": [],
   "source": [
    "#| export\n",
    "DEFAULT_DATA_PATH = \"/home/enes/dev/maskpredformer/data/DL\""
   ]
  },
  {
   "cell_type": "code",
   "execution_count": null,
   "metadata": {},
   "outputs": [],
   "source": [
    "#| export\n",
    "class DLDataset(Dataset):\n",
    "    def __init__(self, root, mode, unlabeled=False):\n",
    "        self.mask_path = os.path.join(root, f\"{mode}_masks.pt\")\n",
    "        self.mode = mode\n",
    "        print(\"INFO: Loading masks from\", self.mask_path)\n",
    "        if unlabeled:\n",
    "            self.masks = torch.cat([\n",
    "                torch.load(self.mask_path), \n",
    "                torch.load(os.path.join(root, f\"unlabeled_masks.pt\")).squeeze()\n",
    "            ], dim=0)\n",
    "        else:\n",
    "            self.masks = torch.load(self.mask_path)\n",
    "        self.transform = transforms.Compose([\n",
    "            transforms.RandomHorizontalFlip(p=0.5),\n",
    "        ])\n",
    "\n",
    "    def __len__(self):\n",
    "        return self.masks.shape[0]\n",
    "    \n",
    "    def __getitem__(self, idx):\n",
    "        if self.mode == \"train\":\n",
    "            ep = self.transform(self.masks[idx])\n",
    "        else:\n",
    "            ep = self.masks[idx]\n",
    "        data = ep[:11].long()\n",
    "        labels = ep[11:].long()\n",
    "        return data, labels"
   ]
  },
  {
   "cell_type": "markdown",
   "metadata": {},
   "source": [
    "**Test dataset**"
   ]
  },
  {
   "cell_type": "code",
   "execution_count": null,
   "metadata": {},
   "outputs": [],
   "source": [
    "dataset = DLDataset('../data/DL', 'val')"
   ]
  },
  {
   "cell_type": "code",
   "execution_count": null,
   "metadata": {},
   "outputs": [],
   "source": [
    "x, y = dataset[0]"
   ]
  },
  {
   "cell_type": "code",
   "execution_count": null,
   "metadata": {},
   "outputs": [],
   "source": [
    "x.shape, y.shape"
   ]
  },
  {
   "cell_type": "code",
   "execution_count": null,
   "metadata": {},
   "outputs": [],
   "source": [
    "show_video_line(x, len(x))"
   ]
  },
  {
   "cell_type": "code",
   "execution_count": null,
   "metadata": {},
   "outputs": [],
   "source": [
    "show_video_line(y, len(y))"
   ]
  },
  {
   "cell_type": "code",
   "execution_count": null,
   "metadata": {},
   "outputs": [],
   "source": [
    "#| hide\n",
    "import nbdev; nbdev.nbdev_export()"
   ]
  },
  {
   "cell_type": "code",
   "execution_count": null,
   "metadata": {},
   "outputs": [],
   "source": []
  }
 ],
 "metadata": {
  "kernelspec": {
   "display_name": "Python 3 (ipykernel)",
   "language": "python",
   "name": "python3"
  },
  "language_info": {
   "codemirror_mode": {
    "name": "ipython",
    "version": 3
   },
   "file_extension": ".py",
   "mimetype": "text/x-python",
   "name": "python",
   "nbconvert_exporter": "python",
   "pygments_lexer": "ipython3",
   "version": "3.11.5"
  }
 },
 "nbformat": 4,
 "nbformat_minor": 4
}
