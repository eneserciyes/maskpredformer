{
 "cells": [
  {
   "cell_type": "code",
   "execution_count": null,
   "id": "30a44e0c-79d1-4b15-ba2e-bdf2fac859ae",
   "metadata": {},
   "outputs": [],
   "source": [
    "import torch\n",
    "import numpy as np\n",
    "import os\n",
    "from maskpredformer.vis_utils import show_video_line"
   ]
  },
  {
   "cell_type": "code",
   "execution_count": null,
   "id": "d863eee4",
   "metadata": {},
   "outputs": [],
   "source": [
    "root_gt_dir = \"../data/train_gt/\"\n",
    "gt_masks = [np.load(os.path.join(root_gt_dir, f\"video_{i}\", \"mask.npy\")) for i in range(1000)]\n",
    "gt_masks = np.stack(gt_masks, axis=0)"
   ]
  },
  {
   "cell_type": "code",
   "execution_count": null,
   "id": "8a817430",
   "metadata": {},
   "outputs": [],
   "source": [
    "show_video_line(gt_masks[-1], 22)"
   ]
  },
  {
   "cell_type": "code",
   "execution_count": null,
   "id": "3ac075b6",
   "metadata": {},
   "outputs": [],
   "source": [
    "torch.save(torch.from_numpy(gt_masks), \"../data/DL/train_gt_masks.pt\")"
   ]
  },
  {
   "cell_type": "markdown",
   "id": "e1c001dd",
   "metadata": {},
   "source": [
    "# Sampling schedules"
   ]
  },
  {
   "cell_type": "code",
   "execution_count": null,
   "id": "b6817e96",
   "metadata": {},
   "outputs": [],
   "source": [
    "import matplotlib.pyplot as plt"
   ]
  },
  {
   "cell_type": "code",
   "execution_count": null,
   "id": "699f7c88",
   "metadata": {},
   "outputs": [],
   "source": [
    "def get_exp_schedule(x, n, k=np.e):\n",
    "    t = 100 * np.maximum((x / n)-0.033,0)\n",
    "    return k ** -t"
   ]
  },
  {
   "cell_type": "code",
   "execution_count": null,
   "id": "ee65ebea",
   "metadata": {},
   "outputs": [],
   "source": [
    "n = 1000\n",
    "x = np.arange(0, n)\n",
    "y = get_exp_schedule(x, n, 1.05)\n",
    "print(get_exp_schedule(800, 1500, 1.05))\n",
    "plt.plot(x, y)\n"
   ]
  }
 ],
 "metadata": {
  "kernelspec": {
   "display_name": "python3",
   "language": "python",
   "name": "python3"
  }
 },
 "nbformat": 4,
 "nbformat_minor": 5
}
